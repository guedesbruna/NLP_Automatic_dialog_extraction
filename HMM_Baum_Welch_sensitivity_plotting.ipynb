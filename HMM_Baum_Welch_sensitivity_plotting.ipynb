{
 "cells": [
  {
   "cell_type": "markdown",
   "id": "8e148b93",
   "metadata": {},
   "source": [
    "http://www.adeveloperdiary.com/data-science/machine-learning/derivation-and-implementation-of-baum-welch-algorithm-for-hidden-markov-model/"
   ]
  },
  {
   "cell_type": "code",
   "execution_count": 3,
   "id": "4549ac39",
   "metadata": {},
   "outputs": [],
   "source": [
    "import pickle\n",
    "import pandas as pd\n",
    "\n",
    "a_file = open(\"./src/generated_files/input_hmm.pkl\", \"rb\")\n",
    "input_hmm = pickle.load(a_file)\n",
    "\n",
    "unigram = input_hmm.get('unigram')\n",
    "bi_fut = input_hmm.get('bi_fut')\n",
    "bi_past = input_hmm.get('bi_past')\n",
    "\n",
    "df = pd.read_csv('./data_TM2/processed/processed_utterances_sentence_DA_labeling.csv', index_col=0)"
   ]
  },
  {
   "cell_type": "code",
   "execution_count": null,
   "id": "62456bf5",
   "metadata": {},
   "outputs": [],
   "source": [
    "# import pandas as pd\n",
    "# import numpy as np\n",
    " \n",
    "# def forward(V, a, b, initial_distribution):\n",
    "#     alpha = np.zeros((V.shape[0], a.shape[0]))\n",
    "#     alpha[0, :] = initial_distribution * b[:, V[0]]\n",
    " \n",
    "#     for t in range(1, V.shape[0]):\n",
    "#         for j in range(a.shape[0]):\n",
    "#             # Matrix Computation Steps\n",
    "#             #                  ((1x2) . (1x2))      *     (1)\n",
    "#             #                        (1)            *     (1)\n",
    "#             alpha[t, j] = alpha[t - 1].dot(a[:, j]) * b[j, V[t]]\n",
    " \n",
    "#     return alpha\n",
    " \n",
    "# def backward(V, a, b):\n",
    "#     beta = np.zeros((V.shape[0], a.shape[0]))\n",
    " \n",
    "#     # setting beta(T) = 1\n",
    "#     beta[V.shape[0] - 1] = np.ones((a.shape[0]))\n",
    " \n",
    "#     # Loop in backward way from T-1 to\n",
    "#     # Due to python indexing the actual loop will be T-2 to 0\n",
    "#     for t in range(V.shape[0] - 2, -1, -1):\n",
    "#         for j in range(a.shape[0]):\n",
    "#             beta[t, j] = (beta[t + 1] * b[:, V[t + 1]]).dot(a[j, :])\n",
    " \n",
    "#     return beta\n",
    " \n",
    "# def baum_welch(V, a, b, initial_distribution, n_iter=100):\n",
    "#     M = a.shape[0]\n",
    "#     T = len(V)\n",
    " \n",
    "#     for n in range(n_iter):\n",
    "#         alpha = forward(V, a, b, initial_distribution)\n",
    "#         beta = backward(V, a, b)\n",
    " \n",
    "#         xi = np.zeros((M, M, T - 1))\n",
    "#         for t in range(T - 1):\n",
    "#             denominator = np.dot(np.dot(alpha[t, :].T, a) * b[:, V[t + 1]].T, beta[t + 1, :])\n",
    "#             for i in range(M):\n",
    "#                 numerator = alpha[t, i] * a[i, :] * b[:, V[t + 1]].T * beta[t + 1, :].T\n",
    "#                 xi[i, :, t] = numerator / denominator\n",
    " \n",
    "#         gamma = np.sum(xi, axis=1)\n",
    "#         a = np.sum(xi, 2) / np.sum(gamma, axis=1).reshape((-1, 1))\n",
    " \n",
    "#         # Add additional T'th element in gamma\n",
    "#         gamma = np.hstack((gamma, np.sum(xi[:, :, T - 2], axis=0).reshape((-1, 1))))\n",
    " \n",
    "#         K = b.shape[1]\n",
    "#         denominator = np.sum(gamma, axis=1)\n",
    "#         for l in range(K):\n",
    "#             b[:, l] = np.sum(gamma[:, V == l], axis=1)\n",
    " \n",
    "#         b = np.divide(b, denominator.reshape((-1, 1)))\n",
    " \n",
    "#     return {\"a\":a, \"b\":b}\n",
    " \n",
    "# data = pd.read_csv('data_python.csv')\n",
    " \n",
    "# V = data['Visible'].values\n",
    " \n",
    "# # Transition Probabilities\n",
    "# a = np.ones((2, 2))\n",
    "# a = a / np.sum(a, axis=1)\n",
    " \n",
    "# # Emission Probabilities\n",
    "# b = np.array(((1, 3, 5), (2, 4, 6)))\n",
    "# b = b / np.sum(b, axis=1).reshape((-1, 1))\n",
    " \n",
    "# # Equal Probabilities for the initial distribution\n",
    "# initial_distribution = np.array((0.5, 0.5))\n",
    " \n",
    "# print(baum_welch(V, a, b, initial_distribution, n_iter=100))"
   ]
  },
  {
   "cell_type": "markdown",
   "id": "3e5b4892",
   "metadata": {},
   "source": [
    "applied to my case"
   ]
  },
  {
   "cell_type": "code",
   "execution_count": null,
   "id": "b5805322",
   "metadata": {},
   "outputs": [],
   "source": [
    "import pandas as pd\n",
    "import numpy as np\n",
    " \n",
    "def forward(V, a, b, initial_distribution):\n",
    "    alpha = np.zeros((len(V), a.shape[0]))\n",
    "    alpha[0, :] = initial_distribution * b[:, len(V)]\n",
    " \n",
    "    for t in range(1, V.shape[0]):\n",
    "        for j in range(a.shape[0]):\n",
    "            # Matrix Computation Steps\n",
    "            #                  ((1x2) . (1x2))      *     (1)\n",
    "            #                        (1)            *     (1)\n",
    "            alpha[t, j] = alpha[t - 1].dot(a[:, j]) * b[j, V[t]]\n",
    " \n",
    "    return alpha\n",
    " \n",
    "def backward(V, a, b):\n",
    "    beta = np.zeros((len(V), a.shape[0]))\n",
    " \n",
    "    # setting beta(T) = 1\n",
    "    beta[len(V) - 1] = np.ones((a.shape[0]))\n",
    " \n",
    "    # Loop in backward way from T-1 to\n",
    "    # Due to python indexing the actual loop will be T-2 to 0\n",
    "    for t in range(len(V) - 2, -1, -1):\n",
    "        for j in range(a.shape[0]):\n",
    "            beta[t, j] = (beta[t + 1] * b[:, V[t + 1]]).dot(a[j, :])\n",
    " \n",
    "    return beta\n",
    " \n",
    "def baum_welch(V, a, b, initial_distribution, n_iter=100):\n",
    "    M = a.shape[0]\n",
    "    T = len(V)\n",
    " \n",
    "    for n in range(n_iter):\n",
    "        alpha = forward(V, a, b, initial_distribution)\n",
    "        beta = backward(V, a, b)\n",
    " \n",
    "        xi = np.zeros((M, M, T - 1))\n",
    "        for t in range(T - 1):\n",
    "            denominator = np.dot(np.dot(alpha[t, :].T, a) * b[:, V[t + 1]].T, beta[t + 1, :])\n",
    "            for i in range(M):\n",
    "                numerator = alpha[t, i] * a[i, :] * b[:, V[t + 1]].T * beta[t + 1, :].T\n",
    "                xi[i, :, t] = numerator / denominator\n",
    " \n",
    "        gamma = np.sum(xi, axis=1)\n",
    "        a = np.sum(xi, 2) / np.sum(gamma, axis=1).reshape((-1, 1))\n",
    " \n",
    "        # Add additional T'th element in gamma\n",
    "        gamma = np.hstack((gamma, np.sum(xi[:, :, T - 2], axis=0).reshape((-1, 1))))\n",
    " \n",
    "        K = b.shape[1]\n",
    "        denominator = np.sum(gamma, axis=1)\n",
    "        for l in range(K):\n",
    "            b[:, l] = np.sum(gamma[:, V == l], axis=1)\n",
    " \n",
    "        b = np.divide(b, denominator.reshape((-1, 1)))\n",
    " \n",
    "    return {\"a\":a, \"b\":b}\n",
    " \n",
    "data = pd.read_csv('data_python.csv')\n",
    " \n",
    "V = data['Visible'].values #observations\n",
    "print(V)\n",
    "print(V.shape[0])\n",
    "V = unigram\n",
    "print(V)\n",
    "print(V.shape[0])\n",
    "\n",
    "# Transition Probabilities\n",
    "# a = np.ones((2, 2))\n",
    "a = np.array(([0.1, 0.9], [0.6,0.4]))\n",
    "print(a)\n",
    "# a = a / np.sum(a, axis=1)\n",
    "# print(a)\n",
    " \n",
    "# Emission Probabilities\n",
    "b = np.array(((1, 3, 5), (2, 4, 6)))\n",
    "b= np.array((bi_past.values(), bi_fut.values()))\n",
    "# print(b)\n",
    "# b = b / np.sum(b, axis=1).reshape((-1, 1))\n",
    "# print(b)\n",
    "\n",
    " \n",
    "# Equal Probabilities for the initial distribution\n",
    "initial_distribution = np.array((0.9999, 0.0001))\n",
    " \n",
    "print(baum_welch(V, a, b, initial_distribution, n_iter=100))"
   ]
  },
  {
   "cell_type": "markdown",
   "id": "d8ab5ffe",
   "metadata": {},
   "source": [
    "## Sensitivity"
   ]
  },
  {
   "cell_type": "code",
   "execution_count": 4,
   "id": "02ca6540",
   "metadata": {},
   "outputs": [],
   "source": [
    "c_file = open(\"./src/generated_files/dict_sensitivity_change_prob_matrix_HMM.pkl\", \"rb\")\n",
    "sensitivity = pickle.load(c_file)"
   ]
  },
  {
   "cell_type": "code",
   "execution_count": 5,
   "id": "02bd70c9",
   "metadata": {},
   "outputs": [
    {
     "name": "stdout",
     "output_type": "stream",
     "text": [
      "[16.600821378991206, 16.520418787598334, 16.483283202221195, 16.441577973160573, 16.392526608051828, 16.331848681166125, 16.249074502545117, 16.103597871355852, 15.798241554835725, 14.978713558537715, 11.816404442387784, 2.859787135585377, 1.046737621471541, 1.0, 1.0, 1.0, 1.0, 1.0]\n",
      "[2.000244710000111, 2.0105621335957093, 2.0156122163070886, 2.0214793559939164, 2.0285863528067765, 2.0376485057930935, 2.0505033646150226, 2.0733672652626662, 2.1207902060727353, 2.2491930945444913, 2.8558082077499813, 10.491166956954466, 29.263613861386137, nan, nan, nan, nan, nan]\n",
      "[0.4882594523232708, 0.48589467022348043, 0.48480244712415277, 0.48357582274001687, 0.4821331355309361, 0.4803484906225331, 0.4779139559572093, 0.4736352315104662, 0.4646541633775213, 0.44055039878052105, 0.34754130712905246, 0.08411138634074639, 0.03078640063151591, 0.029411764705882353, 0.029411764705882353, 0.029411764705882353, 0.029411764705882353, 0.029411764705882353]\n"
     ]
    }
   ],
   "source": [
    "print(sensitivity['mean_n_patterns_per_dialog'])\n",
    "print(sensitivity['mean_len_patterns'])\n",
    "print(sensitivity['norm_mean_n_patterns_per_dialog'])"
   ]
  },
  {
   "cell_type": "code",
   "execution_count": 6,
   "id": "eff309dc",
   "metadata": {},
   "outputs": [
    {
     "data": {
      "text/plain": [
       "dict_keys(['0.1', 'mean_n_patterns_per_dialog', 'norm_mean_n_patterns_per_dialog', 'max_n_patters', 'min_n_patters', 'var_n_patters', 'mean_len_patterns', 'norm_mean_len_patterns', '0.15', '0.2', '0.25', '0.3', '0.35', '0.4', '0.45', '0.5', '0.55', '0.6', '0.65', '0.7', '0.75', '0.8', '0.85', '0.9', '0.95'])"
      ]
     },
     "execution_count": 6,
     "metadata": {},
     "output_type": "execute_result"
    }
   ],
   "source": [
    "sensitivity.keys()"
   ]
  },
  {
   "cell_type": "code",
   "execution_count": 7,
   "id": "dd2f3e65",
   "metadata": {},
   "outputs": [
    {
     "data": {
      "text/plain": [
       "17288"
      ]
     },
     "execution_count": 7,
     "metadata": {},
     "output_type": "execute_result"
    }
   ],
   "source": [
    "len(sensitivity.get('0.2'))"
   ]
  },
  {
   "cell_type": "code",
   "execution_count": 8,
   "id": "f2b1beba",
   "metadata": {},
   "outputs": [
    {
     "data": {
      "image/png": "[encoded data removed]",
      "text/plain": [
       "<Figure size 432x288 with 1 Axes>"
      ]
     },
     "metadata": {
      "needs_background": "light"
     },
     "output_type": "display_data"
    }
   ],
   "source": [
    "import numpy as np\n",
    "import matplotlib.pyplot as plt\n",
    "\n",
    "plt.rcParams[\"figure.autolayout\"] = True\n",
    "\n",
    "plt.title(\"mean_n_patterns_per_dialog\")\n",
    "plt.plot(np.arange(0.1, 1.0, 0.05), sensitivity.get('mean_n_patterns_per_dialog'), color=\"red\")\n",
    "plt.savefig('./src/generated_files/sensit_mean_n_patterns_per_dialog.png')\n",
    "plt.show()"
   ]
  },
  {
   "cell_type": "code",
   "execution_count": 9,
   "id": "ca2ad989",
   "metadata": {},
   "outputs": [
    {
     "data": {
      "image/png": "[encoded data removed]",
      "text/plain": [
       "<Figure size 432x288 with 1 Axes>"
      ]
     },
     "metadata": {
      "needs_background": "light"
     },
     "output_type": "display_data"
    }
   ],
   "source": [
    "plt.rcParams[\"figure.autolayout\"] = True\n",
    "\n",
    "plt.title(\"norm_mean_n_patterns_per_dialog\")\n",
    "plt.plot(np.arange(0.1, 1.0, 0.05), sensitivity.get('norm_mean_n_patterns_per_dialog'), color=\"red\")\n",
    "plt.savefig('./src/generated_files/sensit_norm_mean_n_patterns_per_dialog.png')\n",
    "plt.show()"
   ]
  },
  {
   "cell_type": "code",
   "execution_count": 10,
   "id": "704e39d9",
   "metadata": {},
   "outputs": [
    {
     "data": {
      "image/png": "[encoded data removed]",
      "text/plain": [
       "<Figure size 432x288 with 1 Axes>"
      ]
     },
     "metadata": {
      "needs_background": "light"
     },
     "output_type": "display_data"
    }
   ],
   "source": [
    "plt.rcParams[\"figure.autolayout\"] = True\n",
    "\n",
    "plt.title(\"max_n_patters\")\n",
    "plt.plot(np.arange(0.1, 1.0, 0.05), sensitivity.get('max_n_patters'), color=\"red\")\n",
    "plt.savefig('./src/generated_files/sensit_max_n_patters.png')\n",
    "plt.show()"
   ]
  },
  {
   "cell_type": "code",
   "execution_count": 11,
   "id": "fdabd42e",
   "metadata": {},
   "outputs": [
    {
     "data": {
      "image/png": "[encoded data removed]",
      "text/plain": [
       "<Figure size 432x288 with 1 Axes>"
      ]
     },
     "metadata": {
      "needs_background": "light"
     },
     "output_type": "display_data"
    }
   ],
   "source": [
    "plt.rcParams[\"figure.autolayout\"] = True\n",
    "\n",
    "plt.title(\"min_n_patters\")\n",
    "plt.plot(np.arange(0.1, 1.0, 0.05), sensitivity.get('min_n_patters'), color=\"red\")\n",
    "plt.savefig('./src/generated_files/sensit_min_n_patters.png')\n",
    "plt.show()"
   ]
  },
  {
   "cell_type": "code",
   "execution_count": 12,
   "id": "61741e63",
   "metadata": {},
   "outputs": [
    {
     "data": {
      "image/png": "[encoded data removed]",
      "text/plain": [
       "<Figure size 432x288 with 1 Axes>"
      ]
     },
     "metadata": {
      "needs_background": "light"
     },
     "output_type": "display_data"
    }
   ],
   "source": [
    "plt.rcParams[\"figure.autolayout\"] = True\n",
    "\n",
    "plt.title(\"var_n_patters\")\n",
    "plt.plot(np.arange(0.1, 1.0, 0.05), sensitivity.get('var_n_patters'), color=\"red\")\n",
    "plt.savefig('./src/generated_files/sensit_var_n_patters.png')\n",
    "plt.show()"
   ]
  },
  {
   "cell_type": "code",
   "execution_count": 13,
   "id": "bdc803b6",
   "metadata": {},
   "outputs": [
    {
     "data": {
      "image/png": "[encoded data removed]",
      "text/plain": [
       "<Figure size 432x288 with 1 Axes>"
      ]
     },
     "metadata": {
      "needs_background": "light"
     },
     "output_type": "display_data"
    }
   ],
   "source": [
    "plt.rcParams[\"figure.autolayout\"] = True\n",
    "\n",
    "plt.title(\"mean_len_patterns\")\n",
    "plt.plot(np.arange(0.1, 1.0, 0.05), sensitivity.get('mean_len_patterns'), color=\"red\")\n",
    "plt.savefig('./src/generated_files/sensit_mean_len_patterns.png')\n",
    "plt.show()\n"
   ]
  },
  {
   "cell_type": "code",
   "execution_count": 14,
   "id": "a5b92e5f",
   "metadata": {},
   "outputs": [
    {
     "data": {
      "image/png": "[encoded data removed]",
      "text/plain": [
       "<Figure size 432x288 with 1 Axes>"
      ]
     },
     "metadata": {
      "needs_background": "light"
     },
     "output_type": "display_data"
    }
   ],
   "source": [
    "plt.rcParams[\"figure.autolayout\"] = True\n",
    "\n",
    "plt.title(\"norm_mean_len_patterns\")\n",
    "plt.plot(np.arange(0.1, 1.0, 0.05), sensitivity.get('norm_mean_len_patterns'), color=\"red\")\n",
    "plt.savefig('./src/generated_files/sensit_norm_mean_len_patterns.png')\n",
    "plt.show()\n"
   ]
  },
  {
   "cell_type": "markdown",
   "id": "67eadd1e",
   "metadata": {},
   "source": [
    "## Most frequent starterd and enders of patterns"
   ]
  },
  {
   "cell_type": "code",
   "execution_count": 15,
   "id": "b0890813",
   "metadata": {},
   "outputs": [],
   "source": [
    "b_file = open(\"./src/generated_files/sorted_dict_HMM.pkl\", \"rb\")\n",
    "hmm = pickle.load(b_file)\n",
    "hmm = dict( [(k,v) for k,v in hmm.items() if len(k)>0])"
   ]
  },
  {
   "cell_type": "code",
   "execution_count": 16,
   "id": "f155d266",
   "metadata": {},
   "outputs": [],
   "source": [
    "starters = []\n",
    "enders = []\n",
    "\n",
    "for key in hmm.keys():\n",
    "    k = key.split()\n",
    "    starters.append(k[0])\n",
    "    enders.append(k[len(k)-1])"
   ]
  },
  {
   "cell_type": "code",
   "execution_count": 17,
   "id": "60446f8b",
   "metadata": {},
   "outputs": [
    {
     "name": "stdout",
     "output_type": "stream",
     "text": [
      "Counter({'<UNK>': 3879, 'U_answer': 3784, 'U_confirmation': 3307, 'U_greeting': 2416, 'U_partial_request': 2412, 'A_grant': 2378, 'A_greeting': 2181, 'A_confirmation': 1724, 'A_detail_request': 1169, 'U_sequence_closer': 755, 'A_hold_request': 291, 'A_sequence_closer': 238, 'A_completion_check': 221, 'A_receipt': 105, 'A_repair_initiator': 72, 'A_disconfirmation': 66, 'U_disconfirmation': 56, 'U_repair_initiator': 35, 'U_completion_check': 21, 'U_receipt': 20, 'U_hold_request': 10})\n",
      "Counter({'<UNK>': 5502, 'A_detail_request': 4703, 'U_partial_request': 4118, 'U_sequence_closer': 2273, 'U_greeting': 2017, 'A_greeting': 1790, 'A_sequence_closer': 1551, 'U_confirmation': 1191, 'A_confirmation': 1180, 'U_answer': 361, 'A_grant': 329, 'A_receipt': 110, 'U_receipt': 9, 'A_hold_request': 2, 'A_disconfirmation': 1, 'A_repair_initiator': 1, 'A_completion_check': 1, 'U_disconfirmation': 1})\n"
     ]
    }
   ],
   "source": [
    "import collections\n",
    "\n",
    "count_st=collections.Counter(starters)\n",
    "count_end=collections.Counter(enders)\n",
    "print(count_st)\n",
    "print(count_end)"
   ]
  },
  {
   "cell_type": "code",
   "execution_count": 19,
   "id": "5f55073f",
   "metadata": {},
   "outputs": [
    {
     "data": {
      "text/plain": [
       "Counter({'A_detail_request': 4703,\n",
       "         'U_partial_request': 4118,\n",
       "         'U_sequence_closer': 2273,\n",
       "         'A_sequence_closer': 1551,\n",
       "         '<UNK>': 5502,\n",
       "         'A_greeting': 1790,\n",
       "         'A_grant': 329,\n",
       "         'U_answer': 361,\n",
       "         'A_receipt': 110,\n",
       "         'A_confirmation': 1180,\n",
       "         'U_greeting': 2017,\n",
       "         'U_confirmation': 1191,\n",
       "         'U_receipt': 9,\n",
       "         'A_disconfirmation': 1,\n",
       "         'A_repair_initiator': 1,\n",
       "         'A_completion_check': 1,\n",
       "         'U_disconfirmation': 1,\n",
       "         'A_hold_request': 2})"
      ]
     },
     "execution_count": 19,
     "metadata": {},
     "output_type": "execute_result"
    }
   ],
   "source": [
    "count_end"
   ]
  },
  {
   "cell_type": "code",
   "execution_count": null,
   "id": "e08fa631",
   "metadata": {},
   "outputs": [],
   "source": []
  }
 ],
 "metadata": {
  "kernelspec": {
   "display_name": "Python 3 (ipykernel)",
   "language": "python",
   "name": "python3"
  },
  "language_info": {
   "codemirror_mode": {
    "name": "ipython",
    "version": 3
   },
   "file_extension": ".py",
   "mimetype": "text/x-python",
   "name": "python",
   "nbconvert_exporter": "python",
   "pygments_lexer": "ipython3",
   "version": "3.8.3"
  }
 },
 "nbformat": 4,
 "nbformat_minor": 5
}
